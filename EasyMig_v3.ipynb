{
 "cells": [
  {
   "cell_type": "markdown",
   "metadata": {},
   "source": [
    "OK, to begin we need to import some standart Python modules"
   ]
  },
  {
   "cell_type": "code",
   "execution_count": 62,
   "metadata": {
    "collapsed": true
   },
   "outputs": [],
   "source": [
    "# -*- coding: utf-8 -*-\n",
    "\"\"\"\n",
    "Created on Fri Feb 12 13:21:45 2016\n",
    "\n",
    "@author: GrinevskiyAS\n",
    "\"\"\"\n",
    "\n",
    "from __future__ import division\n",
    "import numpy as np\n",
    "from numpy import sin,cos,tan,pi,sqrt\n",
    "import matplotlib as mpl\n",
    "import matplotlib.cm as cm\n",
    "import matplotlib.pyplot as plt\n",
    "\n",
    "%matplotlib inline\n",
    "\n",
    "\n",
    "font = {'family': 'Arial', 'weight': 'normal', 'size':14}\n",
    "mpl.rc('font', **font)"
   ]
  },
  {
   "cell_type": "markdown",
   "metadata": {},
   "source": [
    "First, let us setup the working area."
   ]
  },
  {
   "cell_type": "code",
   "execution_count": 81,
   "metadata": {
    "collapsed": true
   },
   "outputs": [],
   "source": [
    "#This would be the size of each grid cell (X is the spatial coordinate, T is two-way time)\n",
    "xstep=10\n",
    "tstep=10\n",
    "\n",
    "#size of the whole grid\n",
    "xmax = 301\n",
    "tmax = 201\n",
    "\n",
    "#that's the arrays of x and t\n",
    "xarray=np.arange(0, xmax, xstep)    \n",
    "tarray=np.arange(0, tmax, tstep)\n",
    "\n",
    "#now fimally we created a 2D array img, which is now all zeros, but later we will add some amplitudes there\n",
    "img=np.zeros((len(xarray), len(tarray)))"
   ]
  },
  {
   "cell_type": "markdown",
   "metadata": {},
   "source": [
    "Let's show our all-zero image"
   ]
  },
  {
   "cell_type": "code",
   "execution_count": 82,
   "metadata": {
    "collapsed": false
   },
   "outputs": [
    {
     "data": {
      "text/plain": [
       "<matplotlib.image.AxesImage at 0xfe395f8>"
      ]
     },
     "execution_count": 82,
     "metadata": {},
     "output_type": "execute_result"
    },
    {
     "data": {
      "image/png": "[encoded data removed]",
      "text/plain": [
       "<matplotlib.figure.Figure at 0x113b8438>"
      ]
     },
     "metadata": {},
     "output_type": "display_data"
    }
   ],
   "source": [
    "plt.imshow(img.T,interpolation='none',cmap=cm.Greys, vmin=-2,vmax=2, extent=[xarray[0]-xstep/2, xarray[-1]+xstep/2, tarray[-1]+tstep/2, tarray[0]-tstep/2])"
   ]
  },
  {
   "cell_type": "markdown",
   "metadata": {},
   "source": [
    "What we are now going to do is create a class named **`Hyperbola`**\n",
    "\n",
    "Each object of this class is capable of computing traveltimes to a certain subsurface point (diffractor) and plotting this point response on a grid\n"
   ]
  },
  {
   "cell_type": "code",
   "execution_count": 64,
   "metadata": {
    "collapsed": true
   },
   "outputs": [],
   "source": [
    "class Hyperbola:\n",
    "    def __init__(self, xarray, tarray, x0, v, t0):\n",
    "        ###input parameters define a difractor's position (x0,t0), P-wave velocity of homogeneous subsurface, and x- and t-arrays to compute traveltimes on.\n",
    "        ###\n",
    "        \n",
    "        self.x=xarray\n",
    "        self.x0=x0\n",
    "        self.t0=t0\n",
    "        self.v=v\n",
    "        \n",
    "        #compute traveltimes\n",
    "        self.t=sqrt(t0**2 + (2*(xarray-x0)/v)**2)\n",
    "        \n",
    "        #obtain some grid parameters\n",
    "        xstep=xarray[1]-xarray[0]\n",
    "        tbegin=tarray[0]\n",
    "        tend=tarray[-1]\n",
    "        tstep=tarray[1]-tarray[0]\n",
    "        \n",
    "        #delete t's and x's for samples where t exceeds maxt\n",
    "        self.x=self.x[ (self.t>=tbegin) & (self.t <= tend) ]        \n",
    "        self.t=self.t[ (self.t>=tbegin) & (self.t <= tend) ]\n",
    "        self.imgind=((self.x-xarray[0])/xstep).astype(int)       \n",
    "        \n",
    "        #compute amplitudes' fading according to geometrical spreading\n",
    "        self.amp = 1/(self.t/self.t0)\n",
    "        \n",
    "        self.grid_resample(xarray, tarray)\n",
    "        \n",
    "    \n",
    "    def grid_resample(self, xarray, tarray):\n",
    "    # that's a function that computes at which 'cells' of image should we place the hyperbola\n",
    "    \n",
    "        tend=tarray[-1]\n",
    "        tstep=tarray[1]-tarray[0]\n",
    "        \n",
    "        self.xind=((self.x-xarray[0])/xstep).astype(int)  #X cells numbers\n",
    "        \n",
    "        self.tind=np.round((self.t-tarray[0])/tstep).astype(int) #T cells numbers\n",
    "        self.tind=self.tind[self.tind*tstep<=tarray[-1]] #delete T's exceeding max.T\n",
    "        \n",
    "        self.tgrid=tarray[self.tind] # get 'gridded' T-values\n",
    "        \n",
    "        self.coord=np.vstack((self.xind,tarray[self.tind]))    \n",
    "        \n",
    "            \n",
    "    def add_to_img(self, img, wavelet):\n",
    "    # puts the hyperbola into the right cells of image with a given wavelet\n",
    "        maxind=np.size(img,1)        \n",
    "        wavlen=np.floor(len(wavelet)/2).astype(int)      \n",
    "        \n",
    "        self.imgind=self.imgind[self.tind < maxind-1]        \n",
    "        self.tind=self.tind[self.tind < maxind-1]\n",
    "        ind_begin=self.tind-wavlen                \n",
    "        \n",
    "\n",
    "        for i,sample in enumerate(wavelet):\n",
    "                img[self.imgind,ind_begin+i]=img[self.imgind,ind_begin+i]+sample\n",
    "        return img"
   ]
  },
  {
   "cell_type": "markdown",
   "metadata": {},
   "source": [
    "For testing purposes, let's create an object named Hyp_test and view its parameters"
   ]
  },
  {
   "cell_type": "code",
   "execution_count": 78,
   "metadata": {
    "collapsed": false
   },
   "outputs": [
    {
     "data": {
      "image/png": "[encoded data removed]",
      "text/plain": [
       "<matplotlib.figure.Figure at 0x1123d278>"
      ]
     },
     "metadata": {},
     "output_type": "display_data"
    }
   ],
   "source": [
    "Hyp_test = Hyperbola(xarray, tarray, x0 = 100, t0 = 30, v = 2)\n",
    "\n",
    "#Create a fugure and add axes to it\n",
    "fgr_test1 = plt.figure(figsize=(7,5), facecolor='w')\n",
    "ax_test1 = fgr_test1.add_subplot(111)\n",
    "\n",
    "#Now plot Hyp_test's parameters: X vs T\n",
    "ax_test1.plot(Hyp_test.x, Hyp_test.t, 'r', lw = 2)\n",
    "#and their 'gridded' equivalents\n",
    "ax_test1.plot(Hyp_test.x, Hyp_test.tgrid, ls='none', marker='o', ms=6, mfc=[0,0.5,1],mec='none')\n",
    "\n",
    "#Some commands to add gridlines, change the directon of T axis and move x axis to top\n",
    "ax_test1.set_ylim(tarray[-1],tarray[0])\n",
    "ax_test1.xaxis.set_ticks_position('top')\n",
    "ax_test1.grid(True, alpha = 0.1, ls='-',lw=.5)\n",
    "\n",
    "ax_test1.set_xlabel('X, m')\n",
    "ax_test1.set_ylabel('T, ms')\n",
    "ax_test1.xaxis.set_label_position('top')\n",
    "\n",
    "plt.show()"
   ]
  },
  {
   "cell_type": "code",
   "execution_count": null,
   "metadata": {
    "collapsed": false
   },
   "outputs": [],
   "source": []
  }
 ],
 "metadata": {
  "kernelspec": {
   "display_name": "Python 2",
   "language": "python",
   "name": "python2"
  },
  "language_info": {
   "codemirror_mode": {
    "name": "ipython",
    "version": 2
   },
   "file_extension": ".py",
   "mimetype": "text/x-python",
   "name": "python",
   "nbconvert_exporter": "python",
   "pygments_lexer": "ipython2",
   "version": "2.7.10"
  }
 },
 "nbformat": 4,
 "nbformat_minor": 0
}
